{
 "metadata": {
  "language_info": {
   "codemirror_mode": {
    "name": "ipython",
    "version": 3
   },
   "file_extension": ".py",
   "mimetype": "text/x-python",
   "name": "python",
   "nbconvert_exporter": "python",
   "pygments_lexer": "ipython3",
   "version": "3.8.3-final"
  },
  "orig_nbformat": 2,
  "kernelspec": {
   "name": "python_defaultSpec_1600819411656",
   "display_name": "Python 3.8.3 64-bit ('base': conda)"
  }
 },
 "nbformat": 4,
 "nbformat_minor": 2,
 "cells": [
  {
   "cell_type": "code",
   "execution_count": 1,
   "metadata": {},
   "outputs": [],
   "source": [
    "import os"
   ]
  },
  {
   "cell_type": "code",
   "execution_count": 26,
   "metadata": {},
   "outputs": [],
   "source": [
    "os.chdir(r\"C:\\Users\\danni\\OneDrive\\Desktop\\Grad School  Semester 1\\Computer Science\\myProject\\exerPythFileRename\\Dummy Files\")"
   ]
  },
  {
   "cell_type": "code",
   "execution_count": 27,
   "metadata": {
    "tags": []
   },
   "outputs": [
    {
     "output_type": "stream",
     "name": "stdout",
     "text": "C:\\Users\\danni\\OneDrive\\Desktop\\Grad School  Semester 1\\Computer Science\\myProject\\exerPythFileRename\\Dummy Files\n"
    }
   ],
   "source": [
    "print(os.getcwd())"
   ]
  },
  {
   "cell_type": "code",
   "execution_count": 28,
   "metadata": {
    "tags": []
   },
   "outputs": [
    {
     "output_type": "stream",
     "name": "stdout",
     "text": "Earth - Our solar system - #4.txt\nJupiter - Our solar system - #6.txt\nMars - Our solar system - #5.txt\nMercury - Our solar system - #2.txt\nNeptune - Our solar system - #8.txt\nPluto - Our solar system - #10.txt\nSaturn - Our solar system - #7.txt\nThe Sun - Our solar system - #1.txt\nUranus - Our solar system - #9.txt\nVenus - Our solar system - #3.txt\n"
    }
   ],
   "source": [
    "for f in os.listdir():\n",
    "    print(f)"
   ]
  },
  {
   "cell_type": "code",
   "execution_count": 29,
   "metadata": {
    "tags": []
   },
   "outputs": [
    {
     "output_type": "stream",
     "name": "stdout",
     "text": "('Earth - Our solar system - #4', '.txt')\n('Jupiter - Our solar system - #6', '.txt')\n('Mars - Our solar system - #5', '.txt')\n('Mercury - Our solar system - #2', '.txt')\n('Neptune - Our solar system - #8', '.txt')\n('Pluto - Our solar system - #10', '.txt')\n('Saturn - Our solar system - #7', '.txt')\n('The Sun - Our solar system - #1', '.txt')\n('Uranus - Our solar system - #9', '.txt')\n('Venus - Our solar system - #3', '.txt')\n"
    }
   ],
   "source": [
    "for f in os.listdir():\n",
    "    print(os.path.splitext(f))"
   ]
  },
  {
   "cell_type": "code",
   "execution_count": 30,
   "metadata": {
    "tags": []
   },
   "outputs": [
    {
     "output_type": "stream",
     "name": "stdout",
     "text": "Earth - Our solar system - #4\nJupiter - Our solar system - #6\nMars - Our solar system - #5\nMercury - Our solar system - #2\nNeptune - Our solar system - #8\nPluto - Our solar system - #10\nSaturn - Our solar system - #7\nThe Sun - Our solar system - #1\nUranus - Our solar system - #9\nVenus - Our solar system - #3\n"
    }
   ],
   "source": [
    "for f in os.listdir():\n",
    "    file_name, file_ext = os.path.splitext(f)\n",
    "    print(file_name) "
   ]
  },
  {
   "cell_type": "code",
   "execution_count": 31,
   "metadata": {
    "tags": []
   },
   "outputs": [
    {
     "output_type": "stream",
     "name": "stdout",
     "text": "['Earth ', ' Our solar system ', ' #4']\n['Jupiter ', ' Our solar system ', ' #6']\n['Mars ', ' Our solar system ', ' #5']\n['Mercury ', ' Our solar system ', ' #2']\n['Neptune ', ' Our solar system ', ' #8']\n['Pluto ', ' Our solar system ', ' #10']\n['Saturn ', ' Our solar system ', ' #7']\n['The Sun ', ' Our solar system ', ' #1']\n['Uranus ', ' Our solar system ', ' #9']\n['Venus ', ' Our solar system ', ' #3']\n"
    }
   ],
   "source": [
    "for f in os.listdir():\n",
    "    file_name, file_ext = os.path.splitext(f)\n",
    "    print(file_name.split('-')) "
   ]
  },
  {
   "cell_type": "code",
   "execution_count": 32,
   "metadata": {
    "tags": []
   },
   "outputs": [
    {
     "output_type": "stream",
     "name": "stdout",
     "text": "Earth \nJupiter \nMars \nMercury \nNeptune \nPluto \nSaturn \nThe Sun \nUranus \nVenus \n"
    }
   ],
   "source": [
    "for f in os.listdir():\n",
    "    file_name, file_ext = os.path.splitext(f)\n",
    "    f_title, f_course, f_num = file_name.split('-')\n",
    "    print(f_title)"
   ]
  },
  {
   "cell_type": "code",
   "execution_count": 33,
   "metadata": {
    "tags": []
   },
   "outputs": [
    {
     "output_type": "stream",
     "name": "stdout",
     "text": "Our solar system \n Our solar system \n Our solar system \n Our solar system \n Our solar system \n Our solar system \n Our solar system \n Our solar system \n Our solar system \n Our solar system \n"
    }
   ],
   "source": [
    "for f in os.listdir():\n",
    "    file_name, file_ext = os.path.splitext(f)\n",
    "    f_title, f_course, f_num = file_name.split('-')\n",
    "    print(f_course)"
   ]
  },
  {
   "cell_type": "code",
   "execution_count": 34,
   "metadata": {
    "tags": []
   },
   "outputs": [
    {
     "output_type": "stream",
     "name": "stdout",
     "text": "#4\n #6\n #5\n #2\n #8\n #10\n #7\n #1\n #9\n #3\n"
    }
   ],
   "source": [
    "for f in os.listdir():\n",
    "    file_name, file_ext = os.path.splitext(f)\n",
    "    f_title, f_course, f_num = file_name.split('-')\n",
    "    print(f_num)"
   ]
  },
  {
   "cell_type": "code",
   "execution_count": 35,
   "metadata": {
    "tags": []
   },
   "outputs": [
    {
     "output_type": "stream",
     "name": "stdout",
     "text": "#4- Our solar system -Earth .txt\n #6- Our solar system -Jupiter .txt\n #5- Our solar system -Mars .txt\n #2- Our solar system -Mercury .txt\n #8- Our solar system -Neptune .txt\n #10- Our solar system -Pluto .txt\n #7- Our solar system -Saturn .txt\n #1- Our solar system -The Sun .txt\n #9- Our solar system -Uranus .txt\n #3- Our solar system -Venus .txt\n"
    }
   ],
   "source": [
    "for f in os.listdir():\n",
    "    file_name, file_ext = os.path.splitext(f)\n",
    "\n",
    "    f_title, f_course, f_num = file_name.split('-')\n",
    "\n",
    "    print('{}-{}-{}{}'.format(f_num, f_course, f_title, file_ext))"
   ]
  },
  {
   "cell_type": "code",
   "execution_count": 36,
   "metadata": {
    "tags": []
   },
   "outputs": [
    {
     "output_type": "stream",
     "name": "stdout",
     "text": "#4-Our solar system-Earth.txt\n#6-Our solar system-Jupiter.txt\n#5-Our solar system-Mars.txt\n#2-Our solar system-Mercury.txt\n#8-Our solar system-Neptune.txt\n#10-Our solar system-Pluto.txt\n#7-Our solar system-Saturn.txt\n#1-Our solar system-The Sun.txt\n#9-Our solar system-Uranus.txt\n#3-Our solar system-Venus.txt\n"
    }
   ],
   "source": [
    "for f in os.listdir():\n",
    "    file_name, file_ext = os.path.splitext(f)\n",
    "\n",
    "    f_title, f_course, f_num = file_name.split('-')\n",
    "\n",
    "    f_title = f_title.strip()\n",
    "    f_course = f_course.strip()\n",
    "    f_num = f_num.strip()\n",
    "\n",
    "    print('{}-{}-{}{}'.format(f_num, f_course, f_title, file_ext))"
   ]
  },
  {
   "cell_type": "code",
   "execution_count": 30,
   "metadata": {
    "tags": []
   },
   "outputs": [
    {
     "output_type": "stream",
     "name": "stdout",
     "text": "4-Our solar system-Earth.txt\n6-Our solar system-Jupiter.txt\n2-Our solar system-Mercury.txt\n8-Our solar system-Neptune.txt\n10-Our solar system-Pluto.txt\n7-Our solar system-Saturn.txt\n1-Our solar system-The Sun.txt\n9-Our solar system-Uranus.txt\n3-Our solar system-Venus.txt\n"
    }
   ],
   "source": [
    "for f in os.listdir():\n",
    "    file_name, file_ext = os.path.splitext(f)\n",
    "\n",
    "    f_title, f_course, f_num = file_name.split('-')\n",
    "\n",
    "    f_title = f_title.strip()\n",
    "    f_course = f_course.strip()\n",
    "    f_num = f_num.strip()[1:]\n",
    "\n",
    "    print('{}-{}-{}{}'.format(f_num, f_course, f_title, file_ext))"
   ]
  },
  {
   "cell_type": "code",
   "execution_count": 37,
   "metadata": {
    "tags": []
   },
   "outputs": [
    {
     "output_type": "stream",
     "name": "stdout",
     "text": "04-Our solar system-Earth.txt\n06-Our solar system-Jupiter.txt\n05-Our solar system-Mars.txt\n02-Our solar system-Mercury.txt\n08-Our solar system-Neptune.txt\n10-Our solar system-Pluto.txt\n07-Our solar system-Saturn.txt\n01-Our solar system-The Sun.txt\n09-Our solar system-Uranus.txt\n03-Our solar system-Venus.txt\n"
    }
   ],
   "source": [
    "for f in os.listdir():\n",
    "    file_name, file_ext = os.path.splitext(f)\n",
    "\n",
    "    f_title, f_course, f_num = file_name.split('-')\n",
    "\n",
    "    f_title = f_title.strip()\n",
    "    f_course = f_course.strip()\n",
    "    f_num = f_num.strip()[1:].zfill(2)\n",
    "\n",
    "    print('{}-{}-{}{}'.format(f_num, f_course, f_title, file_ext))"
   ]
  },
  {
   "cell_type": "code",
   "execution_count": 32,
   "metadata": {
    "tags": []
   },
   "outputs": [
    {
     "output_type": "stream",
     "name": "stdout",
     "text": "04-Earth.txt\n06-Jupiter.txt\n02-Mercury.txt\n08-Neptune.txt\n10-Pluto.txt\n07-Saturn.txt\n01-The Sun.txt\n09-Uranus.txt\n03-Venus.txt\n"
    }
   ],
   "source": [
    "for f in os.listdir():\n",
    "    file_name, file_ext = os.path.splitext(f)\n",
    "\n",
    "    f_title, f_course, f_num = file_name.split('-')\n",
    "\n",
    "    f_title = f_title.strip()\n",
    "    f_course = f_course.strip()\n",
    "    f_num = f_num.strip()[1:].zfill(2)\n",
    "\n",
    "    print('{}-{}{}'.format(f_num, f_title, file_ext))"
   ]
  },
  {
   "cell_type": "code",
   "execution_count": 38,
   "metadata": {},
   "outputs": [],
   "source": [
    "for f in os.listdir():\n",
    "    file_name, file_ext = os.path.splitext(f)\n",
    "\n",
    "    f_title, f_course, f_num = file_name.split('-')\n",
    "\n",
    "    f_title = f_title.strip()\n",
    "    f_course = f_course.strip()\n",
    "    f_num = f_num.strip()[1:].zfill(2)\n",
    "\n",
    "    new_name = '{}-{}{}'.format(f_num, f_title, file_ext)\n",
    "\n",
    "    os.rename(f, new_name)"
   ]
  },
  {
   "cell_type": "code",
   "execution_count": null,
   "metadata": {},
   "outputs": [],
   "source": []
  }
 ]
}